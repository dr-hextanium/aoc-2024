{
 "cells": [
  {
   "cell_type": "code",
   "metadata": {
    "collapsed": true,
    "ExecuteTime": {
     "end_time": "2024-12-02T05:44:11.966160500Z",
     "start_time": "2024-12-02T05:44:10.720076600Z"
    }
   },
   "source": [
    "import com.toldoven.aoc.notebook.AocClient\n",
    "\n",
    "val aoc = AocClient.fromEnv().interactiveDay(2024, 2)\n",
    "\n",
    "aoc.viewPartOne()"
   ],
   "outputs": [
    {
     "name": "stdout",
     "output_type": "stream",
     "text": [
      "00:44:11,049 |-INFO in ch.qos.logback.classic.LoggerContext[default] - Could NOT find resource [logback-test.xml]\r\n",
      "00:44:11,049 |-INFO in ch.qos.logback.classic.LoggerContext[default] - Could NOT find resource [logback.groovy]\r\n",
      "00:44:11,049 |-INFO in ch.qos.logback.classic.LoggerContext[default] - Found resource [logback.xml] at [jar:file:/C:/Users/hextanium/AppData/Local/JetBrains/IntelliJIdea2024.1/kotlinNotebook/aoc-2024.1052ec5d/kernels/0.12.0-184/kotlin-jupyter-kernel-shadowed-jar/kotlin-jupyter-kernel-shadowed-0.12.0-184.jar!/logback.xml]\r\n",
      "00:44:11,050 |-WARN in ch.qos.logback.classic.LoggerContext[default] - Resource [logback.xml] occurs multiple times on the classpath.\r\n",
      "00:44:11,050 |-WARN in ch.qos.logback.classic.LoggerContext[default] - Resource [logback.xml] occurs at [jar:file:/C:/Users/hextanium/.gradle/caches/modules-2/files-2.1/org.jetbrains.kotlinx/kotlin-jupyter-kernel/0.12.0-339/78f122af112bc1cbfa63050b6b2114107ac14495/kotlin-jupyter-kernel-0.12.0-339.jar!/logback.xml]\r\n",
      "00:44:11,050 |-WARN in ch.qos.logback.classic.LoggerContext[default] - Resource [logback.xml] occurs at [jar:file:/C:/Users/hextanium/.gradle/caches/modules-2/files-2.1/it.skrape/skrapeit-browser-fetcher/1.2.2/2432c3da3183bfcd2baaabc42186e67d16b11adb/skrapeit-browser-fetcher-1.2.2.jar!/logback.xml]\r\n",
      "00:44:11,050 |-WARN in ch.qos.logback.classic.LoggerContext[default] - Resource [logback.xml] occurs at [jar:file:/C:/Users/hextanium/AppData/Local/JetBrains/IntelliJIdea2024.1/kotlinNotebook/aoc-2024.1052ec5d/kernels/0.12.0-184/kotlin-jupyter-kernel-shadowed-jar/kotlin-jupyter-kernel-shadowed-0.12.0-184.jar!/logback.xml]\r\n",
      "00:44:11,063 |-INFO in ch.qos.logback.core.joran.spi.ConfigurationWatchList@142830be - URL [jar:file:/C:/Users/hextanium/AppData/Local/JetBrains/IntelliJIdea2024.1/kotlinNotebook/aoc-2024.1052ec5d/kernels/0.12.0-184/kotlin-jupyter-kernel-shadowed-jar/kotlin-jupyter-kernel-shadowed-0.12.0-184.jar!/logback.xml] is not of type file\r\n",
      "00:44:11,150 |-INFO in ch.qos.logback.classic.joran.action.ConfigurationAction - debug attribute not set\r\n",
      "00:44:11,150 |-INFO in ch.qos.logback.core.joran.action.AppenderAction - About to instantiate appender of type [ch.qos.logback.core.ConsoleAppender]\r\n",
      "00:44:11,158 |-INFO in ch.qos.logback.core.joran.action.AppenderAction - Naming appender as [STDERR]\r\n",
      "00:44:11,163 |-INFO in ch.qos.logback.core.joran.action.NestedComplexPropertyIA - Assuming default type [ch.qos.logback.classic.encoder.PatternLayoutEncoder] for [encoder] property\r\n",
      "00:44:11,183 |-INFO in ch.qos.logback.classic.joran.action.RootLoggerAction - Setting level of ROOT logger to DEBUG\r\n",
      "00:44:11,183 |-INFO in ch.qos.logback.core.joran.action.AppenderRefAction - Attaching appender named [STDERR] to Logger[ROOT]\r\n",
      "00:44:11,184 |-INFO in ch.qos.logback.classic.joran.action.LoggerAction - Setting level of logger [org.apache] to ERROR\r\n",
      "00:44:11,184 |-INFO in ch.qos.logback.classic.joran.action.LoggerAction - Setting level of logger [org.jetbrains.kotlin.org.apache] to ERROR\r\n",
      "00:44:11,184 |-INFO in ch.qos.logback.classic.joran.action.LoggerAction - Setting level of logger [httpclient] to ERROR\r\n",
      "00:44:11,184 |-INFO in ch.qos.logback.classic.joran.action.LoggerAction - Setting level of logger [org.jetbrains.kotlin.httpclient] to ERROR\r\n",
      "00:44:11,184 |-INFO in ch.qos.logback.classic.joran.action.LoggerAction - Setting level of logger [org.eclipse.aether] to DEBUG\r\n",
      "00:44:11,184 |-INFO in ch.qos.logback.classic.joran.action.LoggerAction - Setting level of logger [org.jetbrains.kotlin.org.eclipse.aether] to DEBUG\r\n",
      "00:44:11,184 |-INFO in ch.qos.logback.classic.joran.action.ConfigurationAction - End of configuration.\r\n",
      "00:44:11,185 |-INFO in ch.qos.logback.classic.joran.JoranConfigurator@4da728a1 - Registering current configuration as safe fallback point\r\n",
      "\r\n"
     ]
    },
    {
     "data": {
      "text/html": [
       "<h2>--- Day 2: Red-Nosed Reports ---</h2>\n",
       "<p>Fortunately, the first location The Historians want to search isn't a long walk from the Chief Historian's office.</p> \n",
       "<p>While the <a href=\"/2015/day/19\">Red-Nosed Reindeer nuclear fusion/fission plant</a> appears to contain no sign of the Chief Historian, the engineers there run up to you as soon as they see you. Apparently, they <em>still</em> talk about the time Rudolph was saved through molecular synthesis from a single electron.</p> \n",
       "<p>They're quick to add that - since you're already here - they'd really appreciate your help analyzing some unusual data from the Red-Nosed reactor. You turn to check if The Historians are waiting for you, but they seem to have already divided into groups that are currently searching every corner of the facility. You offer to help with the unusual data.</p> \n",
       "<p>The unusual data (your puzzle input) consists of many <em>reports</em>, one report per line. Each report is a list of numbers called <em>levels</em> that are separated by spaces. For example:</p> \n",
       "<pre><code>7 6 4 2 1\n",
       "1 2 7 8 9\n",
       "9 7 6 2 1\n",
       "1 3 2 4 5\n",
       "8 6 4 4 1\n",
       "1 3 6 7 9\n",
       "</code></pre> \n",
       "<p>This example data contains six reports each containing five levels.</p> \n",
       "<p>The engineers are trying to figure out which reports are <em>safe</em>. The Red-Nosed reactor safety systems can only tolerate levels that are either gradually increasing or gradually decreasing. So, a report only counts as safe if both of the following are true:</p> \n",
       "<ul> \n",
       " <li>The levels are either <em>all increasing</em> or <em>all decreasing</em>.</li> \n",
       " <li>Any two adjacent levels differ by <em>at least one</em> and <em>at most three</em>.</li> \n",
       "</ul> \n",
       "<p>In the example above, the reports can be found safe or unsafe by checking those rules:</p> \n",
       "<ul> \n",
       " <li><code>7 6 4 2 1</code>: <em>Safe</em> because the levels are all decreasing by 1 or 2.</li> \n",
       " <li><code>1 2 7 8 9</code>: <em>Unsafe</em> because <code>2 7</code> is an increase of 5.</li> \n",
       " <li><code>9 7 6 2 1</code>: <em>Unsafe</em> because <code>6 2</code> is a decrease of 4.</li> \n",
       " <li><code>1 3 2 4 5</code>: <em>Unsafe</em> because <code>1 3</code> is increasing but <code>3 2</code> is decreasing.</li> \n",
       " <li><code>8 6 4 4 1</code>: <em>Unsafe</em> because <code>4 4</code> is neither an increase or a decrease.</li> \n",
       " <li><code>1 3 6 7 9</code>: <em>Safe</em> because the levels are all increasing by 1, 2, or 3.</li> \n",
       "</ul> \n",
       "<p>So, in this example, <code><em>2</em></code> reports are <em>safe</em>.</p> \n",
       "<p>Analyze the unusual data from the engineers. <em>How many reports are safe?</em></p>"
      ]
     },
     "execution_count": 2,
     "metadata": {},
     "output_type": "execute_result"
    }
   ],
   "execution_count": 2
  },
  {
   "metadata": {
    "ExecuteTime": {
     "end_time": "2024-12-02T06:12:12.187511500Z",
     "start_time": "2024-12-02T06:12:11.365328400Z"
    }
   },
   "cell_type": "code",
   "source": [
    "fun delta(pair: Pair<Int, Int>) = pair.first - pair.second\n",
    "fun neighboredDelta(report: List<Int>) = report.zipWithNext().map(::delta)\n",
    "fun List<List<Int>>.filterInRange(lower: Int, upper: Int) = this.filter { it.all { abs(it) in lower..upper } }\n",
    "\n",
    "aoc.input()\n",
    "    .lines()\n",
    "    .map { it.split(\" \") }\n",
    "    .map { it.map { it.toInt() } }\n",
    "    .filter { (it.sorted() == it) or (it.sortedDescending() == it) } // check if levels are all increasing or decreasing\n",
    "    .map { (neighboredDelta(it) to neighboredDelta(it.reversed())) } // get the deltas in the forward and backward direction\n",
    "    .unzip() // unzip so i can deal with all of the forward and all of the backwards independently\n",
    "    .let { (forward, backward) -> forward.filterInRange(1, 3) to backward.filterInRange(1, 3) } // check if the deltas are in the given range  \n",
    "    .let { (forward, backward) -> min(forward.size, backward.size) } // get the least number of \"valid\" configurations"
   ],
   "outputs": [
    {
     "data": {
      "text/plain": [
       "220"
      ]
     },
     "execution_count": 6,
     "metadata": {},
     "output_type": "execute_result"
    }
   ],
   "execution_count": 6
  },
  {
   "metadata": {
    "ExecuteTime": {
     "end_time": "2024-12-02T06:12:31.659139300Z",
     "start_time": "2024-12-02T06:12:31.028282900Z"
    }
   },
   "cell_type": "code",
   "source": "aoc.submitPartOne(220)",
   "outputs": [
    {
     "data": {
      "text/html": [
       "<div>\n",
       "    <p>Your answer: 220.</p>\n",
       "    <p>That's the right answer! You are <span class=\"day-success\">one gold star</span> closer to finding the Chief Historian. <a href=\"/2024/day/2#part2\">[Continue to Part Two]</a></p>\n",
       "</div>"
      ]
     },
     "execution_count": 7,
     "metadata": {},
     "output_type": "execute_result"
    }
   ],
   "execution_count": 7
  },
  {
   "metadata": {
    "ExecuteTime": {
     "end_time": "2024-12-02T06:14:25.230507500Z",
     "start_time": "2024-12-02T06:14:24.932452700Z"
    }
   },
   "cell_type": "code",
   "source": "aoc.viewPartTwo()",
   "outputs": [
    {
     "data": {
      "text/html": [
       "<h2 id=\"part2\">--- Part Two ---</h2>\n",
       "<p>The engineers are surprised by the low number of safe reports until they realize they forgot to tell you about the <span title=\"I need to get one of these!\">Problem Dampener</span>.</p> \n",
       "<p>The Problem Dampener is a reactor-mounted module that lets the reactor safety systems <em>tolerate a single bad level</em> in what would otherwise be a safe report. It's like the bad level never happened!</p> \n",
       "<p>Now, the same rules apply as before, except if removing a single level from an unsafe report would make it safe, the report instead counts as safe.</p> \n",
       "<p>More of the above example's reports are now safe:</p> \n",
       "<ul> \n",
       " <li><code>7 6 4 2 1</code>: <em>Safe</em> without removing any level.</li> \n",
       " <li><code>1 2 7 8 9</code>: <em>Unsafe</em> regardless of which level is removed.</li> \n",
       " <li><code>9 7 6 2 1</code>: <em>Unsafe</em> regardless of which level is removed.</li> \n",
       " <li><code>1 <em>3</em> 2 4 5</code>: <em>Safe</em> by removing the second level, <code>3</code>.</li> \n",
       " <li><code>8 6 <em>4</em> 4 1</code>: <em>Safe</em> by removing the third level, <code>4</code>.</li> \n",
       " <li><code>1 3 6 7 9</code>: <em>Safe</em> without removing any level.</li> \n",
       "</ul> \n",
       "<p>Thanks to the Problem Dampener, <code><em>4</em></code> reports are actually <em>safe</em>!</p> \n",
       "<p>Update your analysis by handling situations where the Problem Dampener can remove a single level from unsafe reports. <em>How many reports are now safe?</em></p>"
      ]
     },
     "execution_count": 8,
     "metadata": {},
     "output_type": "execute_result"
    }
   ],
   "execution_count": 8
  },
  {
   "metadata": {
    "ExecuteTime": {
     "end_time": "2024-12-02T06:33:55.094086Z",
     "start_time": "2024-12-02T06:33:54.507951600Z"
    }
   },
   "cell_type": "code",
   "source": [
    "fun delta(pair: Pair<Int, Int>) = pair.first - pair.second\n",
    "fun neighboredDelta(report: List<Int>) = report.zipWithNext().map(::delta)\n",
    "fun List<List<Int>>.filterInRange(lower: Int, upper: Int) = this.filter { it.all { abs(it) in lower..upper } }\n",
    "\n",
    "aoc.input()\n",
    "    .lines()\n",
    "    .map { it.split(\" \") }\n",
    "    .map { it.map { it.toInt() } }\n",
    "    .map { record -> List(record.size) { record.filterIndexed { i, _ -> i != it } } } // get all combinations of removing 1 level\n",
    "    .map { record ->\n",
    "        record // i can now feed an exact copy paste of part 1 to each of these combinations\n",
    "            .filter { (it.sorted() == it) or (it.sortedDescending() == it) } \n",
    "            .map { (neighboredDelta(it) to neighboredDelta(it.reversed())) } \n",
    "            .unzip()\n",
    "            .let { (forward, backward) -> forward.filterInRange(1, 3) to backward.filterInRange(1, 3) }\n",
    "            .let { (forward, backward) -> min(forward.size, backward.size) }\n",
    "            .sign // lastly, get the sign in order to count it or not (must be 0 or 1)\n",
    "    }\n",
    "    .sum() // get the total number of safe reports"
   ],
   "outputs": [
    {
     "data": {
      "text/plain": [
       "296"
      ]
     },
     "execution_count": 10,
     "metadata": {},
     "output_type": "execute_result"
    }
   ],
   "execution_count": 10
  },
  {
   "metadata": {
    "ExecuteTime": {
     "end_time": "2024-12-02T06:35:30.078042100Z",
     "start_time": "2024-12-02T06:35:29.768974500Z"
    }
   },
   "cell_type": "code",
   "source": "aoc.submitPartTwo(296)",
   "outputs": [
    {
     "data": {
      "text/html": [
       "        <div>\n",
       "            <p>Your answer: 296.</p>\n",
       "            <p>That's the right answer! You are <span class=\"day-success\">one gold star</span> closer to finding the Chief Historian.</p>\n",
       "<p>You have completed Day 2! You can <span class=\"share\">[Share<span class=\"share-content\">on <a href=\"https://bsky.app/intent/compose?text=I+just+completed+%22Red%2DNosed+Reports%22+%2D+Day+2+%2D+Advent+of+Code+2024+%23AdventOfCode+https%3A%2F%2Fadventofcode%2Ecom%2F2024%2Fday%2F2\" target=\"_blank\">Bluesky</a> <a href=\"https://twitter.com/intent/tweet?text=I+just+completed+%22Red%2DNosed+Reports%22+%2D+Day+2+%2D+Advent+of+Code+2024&amp;url=https%3A%2F%2Fadventofcode%2Ecom%2F2024%2Fday%2F2&amp;related=ericwastl&amp;hashtags=AdventOfCode\" target=\"_blank\">Twitter</a> <a href=\"javascript:void(0);\" onclick=\"var ms; try{ms=localStorage.getItem('mastodon.server')}finally{} if(typeof ms!=='string')ms=''; ms=prompt('Mastodon Server?',ms); if(typeof ms==='string' &amp;&amp; ms.length){this.href='https://'+ms+'/share?text=I+just+completed+%22Red%2DNosed+Reports%22+%2D+Day+2+%2D+Advent+of+Code+2024+%23AdventOfCode+https%3A%2F%2Fadventofcode%2Ecom%2F2024%2Fday%2F2';try{localStorage.setItem('mastodon.server',ms);}finally{}}else{return false;}\" target=\"_blank\">Mastodon</a></span>]</span> this victory or <a href=\"/2024\">[Return to Your Advent Calendar]</a>.</p>\n",
       "        </div>"
      ]
     },
     "execution_count": 11,
     "metadata": {},
     "output_type": "execute_result"
    }
   ],
   "execution_count": 11
  },
  {
   "metadata": {},
   "cell_type": "code",
   "outputs": [],
   "execution_count": null,
   "source": ""
  }
 ],
 "metadata": {
  "kernelspec": {
   "display_name": "Kotlin",
   "language": "kotlin",
   "name": "kotlin"
  },
  "language_info": {
   "name": "kotlin",
   "version": "1.9.23",
   "mimetype": "text/x-kotlin",
   "file_extension": ".kt",
   "pygments_lexer": "kotlin",
   "codemirror_mode": "text/x-kotlin",
   "nbconvert_exporter": ""
  },
  "ktnbPluginMetadata": {
   "projectDependencies": [
    "aoc.main"
   ]
  }
 },
 "nbformat": 4,
 "nbformat_minor": 0
}
